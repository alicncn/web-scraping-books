{
 "cells": [
  {
   "cell_type": "code",
   "execution_count": 19,
   "metadata": {},
   "outputs": [],
   "source": [
    "# Importing necessary libraries\n",
    "import requests # Library for making HTTP requests \n",
    "from bs4 import BeautifulSoup as bs # Library for web scraping\n",
    "import pandas as pd # Library for data manipulation and analysis"
   ]
  },
  {
   "cell_type": "code",
   "execution_count": 20,
   "metadata": {},
   "outputs": [],
   "source": [
    "# Initializing an empty list to store book information\n",
    "books=[]\n",
    "\n",
    "# Looping through 50 pages of the website\n",
    "for i in range(1,51):\n",
    "     # Generating the URL for each page\n",
    "    url = f'https://books.toscrape.com/catalogue/page-{i}.html'\n",
    "\n",
    "    # Sending an HTTP request to the URL and getting the content\n",
    "    response = requests.get(url)\n",
    "    response = response.content\n",
    "\n",
    "    # Parsing the HTML content using BeautifulSoup\n",
    "    soup = bs(response, 'html.parser')\n",
    "\n",
    "    # Finding the 'ol' (ordered list) element in the HTML\n",
    "    ol = soup.find('ol')\n",
    "\n",
    "    # Finding all 'article' elements with class 'product_pod' within the 'ol'\n",
    "    articles = ol.find_all('article', class_='product_pod')\n",
    "\n",
    "    # Looping through each book article on the page\n",
    "    for article in articles:\n",
    "        # Finding the 'img' element and extracting the 'alt' attribute (book title)\n",
    "        image = article.find('img')\n",
    "        title = image.attrs['alt']\n",
    "\n",
    "        # Finding the 'p' element and extracting the second class attribute (star rating)\n",
    "        star = article.find('p')\n",
    "        star = star['class'][1]\n",
    "\n",
    "        # Finding the 'p' element with class 'price_color' and extracting the text (book price)\n",
    "        price = article.find('p', class_='price_color').text\n",
    "\n",
    "        # Converting the price to a float after removing the currency symbol\n",
    "        price = float(price[1:])\n",
    "\n",
    "        # Appending book information (title, price, star rating) to the list\n",
    "        books.append([title, price, star])"
   ]
  },
  {
   "cell_type": "code",
   "execution_count": 21,
   "metadata": {},
   "outputs": [],
   "source": [
    "# Creating a DataFrame from the list of books with specified column names\n",
    "df = pd.DataFrame(books, columns=['Title', 'Price', 'Star Rating'])\n",
    "\n",
    "# Writing the DataFrame to a CSV file named 'books.csv'\n",
    "df.to_csv('books.csv')"
   ]
  }
 ],
 "metadata": {
  "kernelspec": {
   "display_name": "Python 3",
   "language": "python",
   "name": "python3"
  },
  "language_info": {
   "codemirror_mode": {
    "name": "ipython",
    "version": 3
   },
   "file_extension": ".py",
   "mimetype": "text/x-python",
   "name": "python",
   "nbconvert_exporter": "python",
   "pygments_lexer": "ipython3",
   "version": "3.11.5"
  }
 },
 "nbformat": 4,
 "nbformat_minor": 2
}
